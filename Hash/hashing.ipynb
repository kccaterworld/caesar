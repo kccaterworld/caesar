{
 "cells": [
  {
   "cell_type": "code",
   "execution_count": null,
   "id": "a0dbea16",
   "metadata": {},
   "outputs": [],
   "source": [
    "def md5(plaintext):\n",
    "    ...\n",
    "\n",
    "def sha1(plaintext):\n",
    "    ...\n",
    "\n",
    "def sha256(plaintext):\n",
    "    ..."
   ]
  }
 ],
 "metadata": {
  "language_info": {
   "name": "python"
  }
 },
 "nbformat": 4,
 "nbformat_minor": 5
}
