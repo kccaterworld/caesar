{
 "cells": [
  {
   "cell_type": "code",
   "execution_count": 2,
   "id": "c7824005",
   "metadata": {},
   "outputs": [],
   "source": [
    "# Imports\n",
    "from Crypto.Cipher import AES\n",
    "from Crypto.Hash import HMAC, SHA256\n",
    "from Crypto.Random import get_random_bytes"
   ]
  },
  {
   "cell_type": "code",
   "execution_count": 17,
   "id": "a8592db4",
   "metadata": {},
   "outputs": [],
   "source": [
    "# Helper functions\n",
    "## keyToeN(string) -> tuple\n",
    "## Takes in the path to a file containing a\n",
    "## public RSA key, and returns a tuple with e\n",
    "## and N values.\n",
    "## Intended for use with rsaEncrypt(), to be\n",
    "## piped into the key parameter in tuple form,\n",
    "## or users can use the string form and just\n",
    "## pass the file path to the function. \n",
    "def pubKeyToeN(file: str | None = None, key: str | int | None = None):\n",
    "    if (file == None) and (key == None):\n",
    "        raise ValueError(\"Either file or key must be provided\")\n",
    "    if (file != None) and (key != None):\n",
    "        raise ValueError(\"Only one of file or key can be provided\")\n",
    "    #TODO: Figure out how the hell to go from long ahh key to a and N\n",
    "\n",
    "def privKeyTodN(file: str | None = None, key: str | int | None = None):\n",
    "    if (file == None) and (key == None):\n",
    "        raise ValueError(\"Either file or key must be provided\")\n",
    "    if (file != None) and (key != None):\n",
    "        raise ValueError(\"Only one of file or key can be provided\")\n",
    "    #TODO: idfk\n",
    "\n",
    "def encodetext(file: str | None = None,\n",
    "               text: str | None = None,\n",
    "               dest: str | None = None):\n",
    "    if (file == None) and (text == None):\n",
    "        raise ValueError(\"Either file or text must be provided\")\n",
    "    if (file != None) and (text != None):\n",
    "        raise ValueError(\"Only one of file or text can be provided\")\n",
    "    if file != None:\n",
    "        textfile = open(file, \"r\")\n",
    "        text = textfile.read()\n",
    "        encodetext(text=text)\n",
    "    if text != None:\n",
    "        if dest != None:\n",
    "            with open(dest, \"w\") as file:\n",
    "                file.write(text.encode(\"ascii\").hex())\n",
    "        return text.encode(\"ascii\").hex()\n",
    "\n",
    "def decodeText(file: str | None = None,\n",
    "               text: str | None = None,\n",
    "               dest: str | None = None):\n",
    "    if (file == None) and (text == None):\n",
    "        raise ValueError(\"Either file or text must be provided\")\n",
    "    if (file != None) and (text != None):\n",
    "        raise ValueError(\"Only one of file or text can be provided\")\n",
    "    if file != None:\n",
    "        textfile = open(file, \"r\")\n",
    "        text = textfile.read()\n",
    "        decodeText(text=text)\n",
    "    if text != None:\n",
    "        if dest != None:\n",
    "            with open(dest, \"w\") as file:\n",
    "                file.write(bytes.fromhex(text).decode(\"ascii\"))\n",
    "        return bytes.fromhex(text).decode(\"ascii\")"
   ]
  },
  {
   "cell_type": "code",
   "execution_count": 5,
   "id": "c9278e3f",
   "metadata": {},
   "outputs": [],
   "source": [
    "def rsaEncrypt(plaintext, key: tuple | str | int):\n",
    "    if type(key) == tuple:\n",
    "        ciphertext = (plaintext ** key[0]) % key[1]\n",
    "    if (type(key) == str) or (type(key) == int):\n",
    "        ciphertext = (plaintext ** pubKeyToeN(key)[0]) % pubKeyToeN(key)[1]\n",
    "    if (type(key) != str) and (type(key) != int) and (type(key) != tuple):\n",
    "        raise TypeError(\"Invalid key type\")\n",
    "    return ciphertext\n",
    "\n",
    "def rsaDecrypt(ciphertext, key: tuple | str | int):\n",
    "    if type(key) == tuple:\n",
    "        plaintext = (ciphertext ** key[0]) % key[1]\n",
    "    if (type(key) == str) or (type(key) == int):\n",
    "        plaintext = (ciphertext ** privKeyTodN(key)[0]) % privKeyTodN(key)[1]\n",
    "    if (type(key) != str) and (type(key) != int) and (type(key) != tuple):\n",
    "        raise TypeError(\"Invalid key type\")\n",
    "    return ciphertext\n"
   ]
  },
  {
   "cell_type": "code",
   "execution_count": 14,
   "id": "0e0dd69b",
   "metadata": {},
   "outputs": [],
   "source": [
    "data = open(\"data.txt\", \"r\").read()\n",
    "encodedData = data.encode(\"ascii\").hex()\n",
    "with open(\"encodeddata.txt\", \"w\") as file:\n",
    "    file.write(encodedData)"
   ]
  },
  {
   "cell_type": "code",
   "execution_count": 15,
   "id": "9d4f134c",
   "metadata": {},
   "outputs": [],
   "source": [
    "decodedData = bytes.fromhex(encodedData).decode(\"ascii\")\n",
    "with open(\"decodeddata.txt\", \"w\") as file:\n",
    "    file.write(decodedData)"
   ]
  },
  {
   "cell_type": "code",
   "execution_count": 16,
   "id": "6a091640",
   "metadata": {},
   "outputs": [
    {
     "data": {
      "text/plain": [
       "True"
      ]
     },
     "execution_count": 16,
     "metadata": {},
     "output_type": "execute_result"
    }
   ],
   "source": [
    "data == open(\"decodeddata.txt\", \"r\").read()"
   ]
  },
  {
   "cell_type": "code",
   "execution_count": null,
   "id": "9e4c5631",
   "metadata": {},
   "outputs": [],
   "source": [
    "def rsaBruteForce():\n",
    "    ..."
   ]
  }
 ],
 "metadata": {
  "kernelspec": {
   "display_name": ".venv",
   "language": "python",
   "name": "python3"
  },
  "language_info": {
   "codemirror_mode": {
    "name": "ipython",
    "version": 3
   },
   "file_extension": ".py",
   "mimetype": "text/x-python",
   "name": "python",
   "nbconvert_exporter": "python",
   "pygments_lexer": "ipython3",
   "version": "3.11.9"
  }
 },
 "nbformat": 4,
 "nbformat_minor": 5
}
