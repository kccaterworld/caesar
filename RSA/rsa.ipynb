{
 "cells": [
  {
   "cell_type": "code",
   "execution_count": null,
   "id": "c7824005",
   "metadata": {},
   "outputs": [],
   "source": [
    "# Imports\n",
    "import pycryptodome\n",
    "from Crypto.Cipher import AES\n",
    "from Crypto.Hash import HMAC, SHA256\n",
    "from Crypto.Random import get_random_bytes"
   ]
  },
  {
   "cell_type": "code",
   "execution_count": null,
   "id": "a8592db4",
   "metadata": {},
   "outputs": [],
   "source": [
    "# Helper functions\n",
    "## keyToeN(string) -> tuple\n",
    "## Takes in the path to a file containing a\n",
    "## public RSA key, and returns a tuple with e\n",
    "## and N values.\n",
    "## Intended for use with rsaEncrypt(), to be\n",
    "## piped into the key parameter in tuple form,\n",
    "## or users can use the string form and just\n",
    "## pass the file path to the function. \n",
    "def pubKeyToeN(file: str | None = None, key: str | int | None = None):\n",
    "    if (file == None) and (key == None):\n",
    "        raise ValueError(\"Either file or key must be provided\")\n",
    "    if (file != None) and (key != None):\n",
    "        raise ValueError(\"Only one of file or key can be provided\")\n",
    "    #TODO: Figure out how the hell to go from long ahh key to a and N\n",
    "\n",
    "def privKeyTodN(file: str | None = None, key: str | int | None = None):\n",
    "    if (file == None) and (key == None):\n",
    "        raise ValueError(\"Either file or key must be provided\")\n",
    "    if (file != None) and (key != None):\n",
    "        raise ValueError(\"Only one of file or key can be provided\")\n",
    "    #TODO: idfk"
   ]
  },
  {
   "cell_type": "code",
   "execution_count": null,
   "id": "c9278e3f",
   "metadata": {},
   "outputs": [],
   "source": [
    "def rsaEncrypt(plaintext, key: tuple | str | int):\n",
    "    if type(key) == tuple:\n",
    "        ciphertext = (plaintext ** key[0]) % key[1]\n",
    "    if (type(key) == str) or (type(key) == int):\n",
    "        ciphertext = (plaintext ** pubKeyToeN(key)[0]) % pubKeyToeN(key)[1]\n",
    "    if (type(key) != str) and (type(key) != int) and (type(key) != tuple):\n",
    "        raise TypeError(\"Invalid key type\")\n",
    "    return ciphertext\n",
    "\n",
    "def rsaDecrypt(ciphertext, key: tuple | str | int):\n",
    "    if type(key) == tuple:\n",
    "        plaintext = (ciphertext ** key[0]) % key[1]\n",
    "    if (type(key) == str) or (type(key) == int):\n",
    "        plaintext = (ciphertext ** privKeyTodN(key)[0]) % privKeyTodN(key)[1]\n",
    "    if (type(key) != str) and (type(key) != int) and (type(key) != tuple):\n",
    "        raise TypeError(\"Invalid key type\")\n",
    "    return ciphertext\n"
   ]
  },
  {
   "cell_type": "code",
   "execution_count": null,
   "id": "9e4c5631",
   "metadata": {},
   "outputs": [],
   "source": [
    "def rsaBruteForce():\n",
    "    ..."
   ]
  }
 ],
 "metadata": {
  "kernelspec": {
   "display_name": ".venv",
   "language": "python",
   "name": "python3"
  },
  "language_info": {
   "name": "python",
   "version": "3.11.9"
  }
 },
 "nbformat": 4,
 "nbformat_minor": 5
}
